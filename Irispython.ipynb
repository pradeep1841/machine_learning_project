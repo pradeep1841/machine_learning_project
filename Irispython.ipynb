{
 "cells": [
  {
   "cell_type": "code",
   "execution_count": 33,
   "id": "c51eb3c5",
   "metadata": {},
   "outputs": [
    {
     "data": {
      "text/html": [
       "<div>\n",
       "<style scoped>\n",
       "    .dataframe tbody tr th:only-of-type {\n",
       "        vertical-align: middle;\n",
       "    }\n",
       "\n",
       "    .dataframe tbody tr th {\n",
       "        vertical-align: top;\n",
       "    }\n",
       "\n",
       "    .dataframe thead th {\n",
       "        text-align: right;\n",
       "    }\n",
       "</style>\n",
       "<table border=\"1\" class=\"dataframe\">\n",
       "  <thead>\n",
       "    <tr style=\"text-align: right;\">\n",
       "      <th></th>\n",
       "      <th>Id</th>\n",
       "      <th>SepalLengthCm</th>\n",
       "      <th>SepalWidthCm</th>\n",
       "      <th>PetalLengthCm</th>\n",
       "      <th>PetalWidthCm</th>\n",
       "      <th>Species</th>\n",
       "    </tr>\n",
       "  </thead>\n",
       "  <tbody>\n",
       "    <tr>\n",
       "      <th>0</th>\n",
       "      <td>1</td>\n",
       "      <td>5.1</td>\n",
       "      <td>3.5</td>\n",
       "      <td>1.4</td>\n",
       "      <td>0.2</td>\n",
       "      <td>Iris-setosa</td>\n",
       "    </tr>\n",
       "    <tr>\n",
       "      <th>1</th>\n",
       "      <td>2</td>\n",
       "      <td>4.9</td>\n",
       "      <td>3.0</td>\n",
       "      <td>1.4</td>\n",
       "      <td>0.2</td>\n",
       "      <td>Iris-setosa</td>\n",
       "    </tr>\n",
       "    <tr>\n",
       "      <th>2</th>\n",
       "      <td>3</td>\n",
       "      <td>4.7</td>\n",
       "      <td>3.2</td>\n",
       "      <td>1.3</td>\n",
       "      <td>0.2</td>\n",
       "      <td>Iris-setosa</td>\n",
       "    </tr>\n",
       "    <tr>\n",
       "      <th>3</th>\n",
       "      <td>4</td>\n",
       "      <td>4.6</td>\n",
       "      <td>3.1</td>\n",
       "      <td>1.5</td>\n",
       "      <td>0.2</td>\n",
       "      <td>Iris-setosa</td>\n",
       "    </tr>\n",
       "    <tr>\n",
       "      <th>4</th>\n",
       "      <td>5</td>\n",
       "      <td>5.0</td>\n",
       "      <td>3.6</td>\n",
       "      <td>1.4</td>\n",
       "      <td>0.2</td>\n",
       "      <td>Iris-setosa</td>\n",
       "    </tr>\n",
       "    <tr>\n",
       "      <th>...</th>\n",
       "      <td>...</td>\n",
       "      <td>...</td>\n",
       "      <td>...</td>\n",
       "      <td>...</td>\n",
       "      <td>...</td>\n",
       "      <td>...</td>\n",
       "    </tr>\n",
       "    <tr>\n",
       "      <th>145</th>\n",
       "      <td>146</td>\n",
       "      <td>6.7</td>\n",
       "      <td>3.0</td>\n",
       "      <td>5.2</td>\n",
       "      <td>2.3</td>\n",
       "      <td>Iris-virginica</td>\n",
       "    </tr>\n",
       "    <tr>\n",
       "      <th>146</th>\n",
       "      <td>147</td>\n",
       "      <td>6.3</td>\n",
       "      <td>2.5</td>\n",
       "      <td>5.0</td>\n",
       "      <td>1.9</td>\n",
       "      <td>Iris-virginica</td>\n",
       "    </tr>\n",
       "    <tr>\n",
       "      <th>147</th>\n",
       "      <td>148</td>\n",
       "      <td>6.5</td>\n",
       "      <td>3.0</td>\n",
       "      <td>5.2</td>\n",
       "      <td>2.0</td>\n",
       "      <td>Iris-virginica</td>\n",
       "    </tr>\n",
       "    <tr>\n",
       "      <th>148</th>\n",
       "      <td>149</td>\n",
       "      <td>6.2</td>\n",
       "      <td>3.4</td>\n",
       "      <td>5.4</td>\n",
       "      <td>2.3</td>\n",
       "      <td>Iris-virginica</td>\n",
       "    </tr>\n",
       "    <tr>\n",
       "      <th>149</th>\n",
       "      <td>150</td>\n",
       "      <td>5.9</td>\n",
       "      <td>3.0</td>\n",
       "      <td>5.1</td>\n",
       "      <td>1.8</td>\n",
       "      <td>Iris-virginica</td>\n",
       "    </tr>\n",
       "  </tbody>\n",
       "</table>\n",
       "<p>150 rows × 6 columns</p>\n",
       "</div>"
      ],
      "text/plain": [
       "      Id  SepalLengthCm  SepalWidthCm  PetalLengthCm  PetalWidthCm  \\\n",
       "0      1            5.1           3.5            1.4           0.2   \n",
       "1      2            4.9           3.0            1.4           0.2   \n",
       "2      3            4.7           3.2            1.3           0.2   \n",
       "3      4            4.6           3.1            1.5           0.2   \n",
       "4      5            5.0           3.6            1.4           0.2   \n",
       "..   ...            ...           ...            ...           ...   \n",
       "145  146            6.7           3.0            5.2           2.3   \n",
       "146  147            6.3           2.5            5.0           1.9   \n",
       "147  148            6.5           3.0            5.2           2.0   \n",
       "148  149            6.2           3.4            5.4           2.3   \n",
       "149  150            5.9           3.0            5.1           1.8   \n",
       "\n",
       "            Species  \n",
       "0       Iris-setosa  \n",
       "1       Iris-setosa  \n",
       "2       Iris-setosa  \n",
       "3       Iris-setosa  \n",
       "4       Iris-setosa  \n",
       "..              ...  \n",
       "145  Iris-virginica  \n",
       "146  Iris-virginica  \n",
       "147  Iris-virginica  \n",
       "148  Iris-virginica  \n",
       "149  Iris-virginica  \n",
       "\n",
       "[150 rows x 6 columns]"
      ]
     },
     "execution_count": 33,
     "metadata": {},
     "output_type": "execute_result"
    }
   ],
   "source": [
    "import pandas as pd\n",
    "data2=pd.read_csv('Iris.csv')\n",
    "data2"
   ]
  },
  {
   "cell_type": "code",
   "execution_count": 20,
   "id": "5d3c192e",
   "metadata": {},
   "outputs": [
    {
     "data": {
      "text/plain": [
       "<AxesSubplot:xlabel='SepalLengthCm', ylabel='Count'>"
      ]
     },
     "execution_count": 20,
     "metadata": {},
     "output_type": "execute_result"
    },
    {
     "data": {
      "image/png": "[encoded data removed]",
      "text/plain": [
       "<Figure size 432x288 with 1 Axes>"
      ]
     },
     "metadata": {
      "needs_background": "light"
     },
     "output_type": "display_data"
    }
   ],
   "source": [
    "import seaborn as sns\n",
    "sns.histplot(np.log(data2['SepalLengthCm']),kde=True)"
   ]
  },
  {
   "cell_type": "code",
   "execution_count": 6,
   "id": "8e6f5b19",
   "metadata": {},
   "outputs": [
    {
     "data": {
      "text/plain": [
       "<AxesSubplot:xlabel='SepalWidthCm', ylabel='Count'>"
      ]
     },
     "execution_count": 6,
     "metadata": {},
     "output_type": "execute_result"
    },
    {
     "data": {
      "image/png": "[encoded data removed]",
      "text/plain": [
       "<Figure size 432x288 with 1 Axes>"
      ]
     },
     "metadata": {
      "needs_background": "light"
     },
     "output_type": "display_data"
    }
   ],
   "source": [
    "sns.histplot(data2['SepalWidthCm'],kde=True)"
   ]
  },
  {
   "cell_type": "code",
   "execution_count": 7,
   "id": "707a2553",
   "metadata": {},
   "outputs": [
    {
     "data": {
      "text/plain": [
       "<AxesSubplot:xlabel='PetalLengthCm', ylabel='Count'>"
      ]
     },
     "execution_count": 7,
     "metadata": {},
     "output_type": "execute_result"
    },
    {
     "data": {
      "image/png": "[encoded data removed]",
      "text/plain": [
       "<Figure size 432x288 with 1 Axes>"
      ]
     },
     "metadata": {
      "needs_background": "light"
     },
     "output_type": "display_data"
    }
   ],
   "source": [
    "sns.histplot(data2['PetalLengthCm'],kde=True)"
   ]
  },
  {
   "cell_type": "code",
   "execution_count": 12,
   "id": "ff0c8723",
   "metadata": {},
   "outputs": [],
   "source": [
    "import numpy as np\n",
    "s = np.random.normal(0.5,0.2,1000)"
   ]
  },
  {
   "cell_type": "code",
   "execution_count": 13,
   "id": "d9f9d9e0",
   "metadata": {},
   "outputs": [
    {
     "data": {
      "text/plain": [
       "<AxesSubplot:ylabel='Count'>"
      ]
     },
     "execution_count": 13,
     "metadata": {},
     "output_type": "execute_result"
    },
    {
     "data": {
      "image/png": "[encoded data removed]",
      "text/plain": [
       "<Figure size 432x288 with 1 Axes>"
      ]
     },
     "metadata": {
      "needs_background": "light"
     },
     "output_type": "display_data"
    }
   ],
   "source": [
    "sns.histplot(s,kde=True)"
   ]
  },
  {
   "cell_type": "code",
   "execution_count": 15,
   "id": "f36eeab9",
   "metadata": {},
   "outputs": [],
   "source": [
    "mu,sigma=3.0,1.0\n",
    "p=np.random.lognormal(mu,sigma,1000)"
   ]
  },
  {
   "cell_type": "code",
   "execution_count": 16,
   "id": "7b5c6a5b",
   "metadata": {},
   "outputs": [
    {
     "data": {
      "text/plain": [
       "<AxesSubplot:ylabel='Count'>"
      ]
     },
     "execution_count": 16,
     "metadata": {},
     "output_type": "execute_result"
    },
    {
     "data": {
      "image/png": "[encoded data removed]",
      "text/plain": [
       "<Figure size 432x288 with 1 Axes>"
      ]
     },
     "metadata": {
      "needs_background": "light"
     },
     "output_type": "display_data"
    }
   ],
   "source": [
    "sns.histplot(p ,kde=True)"
   ]
  },
  {
   "cell_type": "code",
   "execution_count": 17,
   "id": "679f2f90",
   "metadata": {},
   "outputs": [
    {
     "data": {
      "text/plain": [
       "array([ 45.39475372,  26.4342888 ,  12.48804771,  40.94217766,\n",
       "        11.98299105,   8.95808371,  25.87567179,  50.01311999,\n",
       "        14.41221666,   9.79654179,  18.88086781,   9.63148907,\n",
       "        11.65254303,  21.59481662,  15.24458977,  31.31807122,\n",
       "         1.73341709,  43.18564137,  25.05335203,  23.05931777,\n",
       "        20.01874742,  16.24211714,  12.52618665,  42.04853173,\n",
       "        15.34002981,  88.74988559,  15.35523698,  80.35888121,\n",
       "        44.09344277,  31.78638397,  46.13792833,  35.86395119,\n",
       "        11.27912685,  57.69743915,  32.46759745,  50.31705873,\n",
       "        16.84120865,  26.68151355,  54.60529147,  40.36720811,\n",
       "        28.5678699 ,  48.33595555,  36.65862242,  34.17427655,\n",
       "        20.79408562,   9.02836802,  71.4876724 , 145.68431171,\n",
       "        19.80634013,  20.36928499,  49.75082485,   5.62586347,\n",
       "        21.9367118 ,   4.51473358, 156.26407863,  15.21741071,\n",
       "        49.02199697,  23.95748599,  12.37615717,  50.32010249,\n",
       "        14.12794127,  24.75533413,  42.79439837, 299.99014131,\n",
       "        46.09366253,  29.02204931,  12.33792777,  24.2694661 ,\n",
       "         8.42279349,   6.05662077,   9.95858888,  11.04439535,\n",
       "        20.40344927,  21.27212465,   5.57498869,  10.9254334 ,\n",
       "        64.62716133,   9.33367915,  42.96552161,  30.63153218,\n",
       "         0.78974783,  19.71542468,   5.75074959,  33.72712415,\n",
       "         7.37170545,  15.29918115,   3.45215561,   4.93926981,\n",
       "        83.29920847,  37.92288697,   6.80160711,  95.86058861,\n",
       "        17.99172651,  58.14269418,  27.96813672,  23.26639749,\n",
       "        15.46817381,  30.28853026,   1.41820825,   5.24818749,\n",
       "        11.85172193,  11.70741437,  78.4357106 ,   7.1223225 ,\n",
       "        21.19935303,  23.99138433,   2.7179793 ,   8.30237531,\n",
       "        44.95392032,  51.72500869,  10.3228916 ,   8.00297103,\n",
       "        14.48331904,  12.30899246,  27.97925886,  20.54808586,\n",
       "        28.59418473,   8.36622116,   7.47475079,  52.06840041,\n",
       "        37.85370034,  19.08590571,  26.93904328,  11.93622607,\n",
       "        25.20533474,  15.25223837,  47.2107704 ,  28.1241694 ,\n",
       "       316.80455012,   9.4909939 ,   4.12327224,  92.05910876,\n",
       "        12.31326428,  20.84244979,  33.0848679 ,  25.39851607,\n",
       "        11.88510593,   6.86473412,  18.70220285,  42.54055872,\n",
       "        34.61503318,  10.05827397,  29.93290243,  16.46602852,\n",
       "        12.48217872,  27.91522558,  10.6158261 ,  10.45248796,\n",
       "         9.15251147,  21.12730157,  19.15614547,   7.86310657,\n",
       "        77.15575154,  29.65573831,  10.95331503,  95.55367099,\n",
       "        26.69857816,  11.37645343,  16.1048827 ,  51.54514775,\n",
       "        15.16373974,  10.77531959,  21.38727202, 124.22331744,\n",
       "        97.44994075,   4.5899375 ,  76.66233505,   5.21827812,\n",
       "        22.07610482,  12.89409848,   7.18146448,  33.00398877,\n",
       "        23.75923332,   6.77351747,  80.85420509,  10.92503213,\n",
       "        10.83623871,  18.50645966,  36.8128987 ,  21.40077719,\n",
       "        89.5268682 ,   5.27863388,  61.76807293,   6.51653825,\n",
       "        23.4400209 ,  46.46470143,  47.80960637,  31.84399463,\n",
       "        39.03317904,   8.60519084, 185.86296246, 103.23068535,\n",
       "        15.57717029,  41.44862419,  22.00037747,  24.75903004,\n",
       "        37.50320058,  29.73592581,  83.23508893,  11.42420135,\n",
       "         3.70102409,  11.48440997, 199.73109922,  13.93167793,\n",
       "         8.74938904,  20.76433747,  88.28910467,  33.1346857 ,\n",
       "        27.93112658,  18.92240498,   8.69020679,  92.32972395,\n",
       "        18.17282727,  14.29273468,  19.75762271,  24.80235375,\n",
       "         2.50239972,   4.23660951,  90.75896802,  33.68255257,\n",
       "        19.89992524,  27.60141461, 104.26099959,  24.16184851,\n",
       "         4.53749557,   4.79787412,  19.41507564,  20.63373492,\n",
       "        11.25633763,  33.52077714,  35.78036451,  64.93397071,\n",
       "        12.03651699,  72.8118344 ,  33.77682606,   4.16459285,\n",
       "         3.06890276,   6.10323916,   6.9551108 ,   2.53229538,\n",
       "        18.30089397,  20.39498419,   2.69911988,   8.85584871,\n",
       "        24.38767913,   4.84326717,  57.06214937,  37.02827854,\n",
       "        69.83975651,  19.8927203 ,  32.37690525,  26.10375275,\n",
       "        25.78184531,  98.89237186,  25.09043431,   3.28642334,\n",
       "         9.75464734,  58.7378693 ,  16.58399447,  22.27672093,\n",
       "        37.04213247,  38.64636186,   3.29357912,   6.75999865,\n",
       "        10.05280917,  59.19092358,  27.22501629,  30.03331503,\n",
       "        17.29960507,   6.96331388,   3.24076824,   3.83674992,\n",
       "         7.43630867,  72.23183375,   9.52281562,   8.17012481,\n",
       "        49.91230826,  83.16596571,  16.60388123,  29.27494688,\n",
       "        20.00668262,  17.91028887,  18.00307326,  30.22474915,\n",
       "        17.42642546,  25.92014714,  17.20549731,   1.80600521,\n",
       "       193.59261412,  59.24998469,  68.7002709 ,   2.17707416,\n",
       "        85.28273653,   5.97651912,   9.93345328,  19.1515434 ,\n",
       "        10.09204537,  38.8724765 ,   4.76975663,  30.50710718,\n",
       "         6.92569206,  38.58934646,  38.00264742,   6.86766143,\n",
       "        11.29084632,  68.12941641,  13.96702207,  64.29598419,\n",
       "        31.10822329,  36.52981863,  39.00419248,   3.63376642,\n",
       "        10.81053895,   7.03423011, 178.11122653,  11.66532841,\n",
       "        18.24993579,  25.78414861, 104.87593248,  33.81159409,\n",
       "        10.21200987,  32.6927259 ,  14.84842843,   6.2091438 ,\n",
       "        20.05436543,  13.33896399,   2.76051275,   5.67250775,\n",
       "        95.38041425,  22.30262254,  38.11045065,  17.84780083,\n",
       "        26.30704169,   2.16764197,   7.5800394 ,  14.09860923,\n",
       "        13.79947163,   8.88524859,  44.16345544,  11.25524893,\n",
       "         7.54113154,  20.27443531,  27.20323974,   4.01884799,\n",
       "        25.46777285,  10.75678793,  23.45184379,  58.08092678,\n",
       "         3.10381483,  67.42528729,  39.09846926,  13.15280109,\n",
       "        88.37516073,  14.11940702,  14.66375807,  32.21083347,\n",
       "         6.91232425,  13.93107894,   8.92998983,  11.03043334,\n",
       "        32.42367871,  26.69099979,   5.70828613,  23.67812253,\n",
       "        20.38280074,  33.30985501,   3.7305172 ,  60.4624779 ,\n",
       "        18.92022145,  13.21425401,  20.45748514,   3.72233543,\n",
       "        44.22462711,  21.70863698,   9.57085794,   4.33654553,\n",
       "        71.06169619,  69.81893813,   4.54197277,   4.11581463,\n",
       "        17.28324805,   6.90103831,  47.73562139,  36.18693921,\n",
       "        54.99921067,  18.6933554 ,  26.16297844,  34.7982563 ,\n",
       "         7.15488175,  41.3632856 ,  41.20113466,   8.37757835,\n",
       "        26.60416688,  33.11505359,  45.40549508,   4.37066735,\n",
       "        40.7298782 ,  21.81355347,  17.00876487,  10.15757259,\n",
       "        11.99042031,  32.77706406,  13.39658537,  14.95113859,\n",
       "        13.93250695,  10.25798394,   8.18405447,  10.02459302,\n",
       "        39.19263849,  48.95062072,  24.5899984 ,  15.92121562,\n",
       "       114.61103845,  14.72976042,  15.07963421,  57.98654077,\n",
       "         8.54260996,  88.96641463, 125.29550502,  44.64428585,\n",
       "        42.31826231,  10.19103469,  13.53234445,  32.64619109,\n",
       "        51.70523267,  27.69475188,  38.17282352,  10.9149487 ,\n",
       "        26.10198757,  16.5593767 ,  10.87811823,  29.30072948,\n",
       "        14.73711722,  47.11906759,  46.98407079,  61.02831791,\n",
       "        28.53383058,   7.26418299,   3.21338556, 332.94892641,\n",
       "        20.23631374,   7.88176002,  23.79408956,  21.98613177,\n",
       "         8.17496185,  11.00768697,  21.41223252, 167.56606466,\n",
       "        15.42031218,  53.86206454,  34.21970302,  55.69603896,\n",
       "        35.50759686,  33.58476315,  65.10912385,  49.44290354,\n",
       "        23.94773461,  19.47294806, 299.30377841,   9.03508621,\n",
       "       112.23559537,  30.37137162,  70.16453272,  42.65038769,\n",
       "        14.27202267,  15.86934662,  85.94658231,  36.44279053,\n",
       "         5.31539415,  37.31667475,   4.7398427 ,  20.32169292,\n",
       "        18.84745702,   4.70822224,  19.22562566,   8.59432596,\n",
       "         6.2310506 ,  36.40096717,  20.6795137 ,  42.54177971,\n",
       "       342.23189987,  11.87461271,  14.54837233,   6.33293208,\n",
       "        11.21275781,  61.16724375,  36.8937653 ,  53.08779614,\n",
       "         6.56724272, 108.16880934,   9.94799221,  13.38735791,\n",
       "         2.07930906,  78.11634449,  22.68278325,  46.11429415,\n",
       "         6.37232145,   9.77656747,   8.13699126,  15.14580628,\n",
       "         8.66610413,  96.99458048,  18.93243818,   1.9078543 ,\n",
       "        28.70089206,  53.24534892,  17.32263997,  42.00685206,\n",
       "        10.0453107 ,  44.51482541,  39.74763577,  56.50899026,\n",
       "         9.84192596,  41.27520769,  75.80933812,  46.47898068,\n",
       "         8.70424535,   5.97837597,  91.05335872,  10.6357825 ,\n",
       "        14.43111044,  17.76709617,  46.05672195,  38.32806135,\n",
       "        19.46689411, 155.20649565,   2.07840304,  10.72150648,\n",
       "       150.67248448,   6.0070997 ,  15.44587025,  11.24909709,\n",
       "         6.02917243,   9.99094189,   6.65498492,  64.36442934,\n",
       "        38.15071151,   5.4079816 ,   3.84434702,  12.38531559,\n",
       "         2.95560561,  12.92616038,   4.61654676,  12.52498372,\n",
       "        61.56199311,  54.77977798,   7.51625213,  41.18129395,\n",
       "        19.04853902,   6.53311239,  14.01409058,  19.49725554,\n",
       "        35.40840946,   4.71519829,  18.948985  ,  15.38344422,\n",
       "        17.65871988,  10.07668909,   7.68267904,   4.89823884,\n",
       "        13.83407538,  18.95771197,  30.11284034,  32.02523473,\n",
       "         6.72256847,   9.22488672,   7.52970553,  30.14731262,\n",
       "         7.48413322,  30.5188964 ,  15.37568532,  19.46957058,\n",
       "        69.03442788, 159.92941348,  33.75131653,   5.73401301,\n",
       "       147.05747444,  31.38421207,   3.36358387,  20.61096219,\n",
       "        12.83146086,  50.70661853,  26.19969348,  33.29350336,\n",
       "        16.71598291,  75.04284615,  14.04022754,  49.45286599,\n",
       "         6.84839337,   9.12867194,  63.08492334,   3.48105748,\n",
       "         8.94567247,  20.76848524,  34.08704893,  61.36455515,\n",
       "       118.67237214,  27.29076893,   1.44293467,   9.02737836,\n",
       "        36.9383642 ,  29.40211391,  17.42290577,  12.71377513,\n",
       "         7.2519099 ,  73.1924251 ,   8.62895259,  24.61780008,\n",
       "       102.22873652,  19.53061361,  41.86126911,  46.22432299,\n",
       "         9.50140876,  11.29462509,  10.192769  ,   6.25057787,\n",
       "        13.31830586, 120.97453491,  35.28316495,  20.12215948,\n",
       "        39.35517202,  25.68757636,   2.69791027,  18.96637275,\n",
       "         7.79266016,  21.39531501,  35.55753801,  33.983603  ,\n",
       "        60.38742422,  18.24698943,  23.96647189,  26.56593155,\n",
       "         3.79750003,  11.46228444,  31.5586818 ,  24.47391263,\n",
       "        39.09800756, 128.27835511,  32.6863235 ,  48.36162018,\n",
       "         6.24788631,   7.05592489,  19.96315942,   5.41469953,\n",
       "        30.52072372,  44.6749773 ,  12.83172511,  57.2711293 ,\n",
       "         7.21520924,  23.46657176,  17.91511275,  32.12963579,\n",
       "        11.52545239,   4.65649938,  62.34871244,  18.06161049,\n",
       "        23.66799119,  24.713911  ,  39.27026102,  38.29796044,\n",
       "        28.13327888,   8.79107644,  22.47808698,  16.67833145,\n",
       "        33.23241545,  19.65932929,  43.4441871 ,  11.77744174,\n",
       "        89.4294411 ,  30.43944343,   8.83028517,  13.45431437,\n",
       "        98.41156279,  19.73712342,  23.13182249,   5.22447939,\n",
       "        39.02245386,  20.15341983,  29.99115559,  16.0735971 ,\n",
       "        19.58984401,   5.85240354,  16.08568205,   8.345424  ,\n",
       "        13.78499549,  15.74334454,  13.87576274,  42.39488428,\n",
       "        11.45922278,  11.85179097,   8.35021559,  55.57421376,\n",
       "        55.20016923,  41.77879904,   7.35956542,   6.69982786,\n",
       "        15.767243  ,   4.69546693,  23.02618833,  72.01697686,\n",
       "         2.56291442,  88.04823022,  30.13818381,  30.13614034,\n",
       "        41.56316479,  54.18698994,   5.81266853,  27.71555786,\n",
       "        10.84635584,  21.99960069,  14.76215742,  84.01598342,\n",
       "        82.62025315, 248.11663274,  10.89655579,  22.08752178,\n",
       "         6.89151201,  16.18228424,  14.27446836,  11.70255984,\n",
       "        25.84270324,  45.89300228,  15.49363131,  40.69084233,\n",
       "        28.82326763,  42.47254422,  89.89469717,  50.99541746,\n",
       "        69.32172728,   8.21631363,  22.98982919,  14.53077077,\n",
       "        65.5618812 ,  39.148482  ,   8.05322513,  53.6007994 ,\n",
       "        27.62742451,  23.76843623,   4.93877077,  18.62776712,\n",
       "         5.68061155,  33.85627203,  24.8808755 ,  13.42139083,\n",
       "         7.5250966 ,  13.25082124,   1.45127651,  45.72994982,\n",
       "         4.12454797,  19.89013735,   6.14263685,   9.98279431,\n",
       "        28.17154101,   8.3242294 ,   9.13462162,  47.84951399,\n",
       "         4.79800935,  17.95695011,  11.15030251,  24.78641671,\n",
       "        61.18864623,  23.98894438,  29.03060633,  86.74966887,\n",
       "        16.30968301,   7.94855822,  26.07025412,   6.9098488 ,\n",
       "         8.0175752 ,  13.48729247,   3.60592355,  19.46528722,\n",
       "        12.02874456,  16.01197352,  65.76214772,   2.46320936,\n",
       "        12.49089193,  25.44653008,  11.00392896,  11.07420377,\n",
       "         4.74989001,  74.99850099,   4.92533243,  16.66690929,\n",
       "        41.88933838,  25.00676681,  17.04799147,   8.09541502,\n",
       "        99.18676852,   5.58747007,   8.57011618,  12.90775659,\n",
       "         2.22911799,  26.39035511,  39.83130304,  10.05943096,\n",
       "         3.21951868,  46.102046  ,  19.0513287 ,  33.03341167,\n",
       "         3.12557841,  26.63529712,  29.07641701,  18.62326561,\n",
       "        18.31907386,   4.76789651,  54.00952116,  48.68107731,\n",
       "        55.6021305 ,  18.13985275, 104.33776154,   5.40047667,\n",
       "        27.40813071, 272.90042767,  19.94829367,  30.82352669,\n",
       "       737.79465451,  68.50110471,   3.35523555,  23.08644001,\n",
       "        80.75117528,  10.80791296,  21.26860799,   3.84097392,\n",
       "        11.06344747,  15.62250532,   8.8089051 ,   9.25580806,\n",
       "         5.81036675,   4.95173569,  24.45462464,  12.87770873,\n",
       "         4.96364064, 130.60872655,   8.03680418,   8.3880497 ,\n",
       "        39.73774793,  16.4255213 ,   4.16490881,  25.42594438,\n",
       "        43.96814811,  13.24250285,   9.90317329, 122.88165785,\n",
       "        17.86360487,  11.44114553,  13.08467806,  17.25390495,\n",
       "        29.82215956,  84.02259648,  61.15269844,  25.24574503,\n",
       "         5.43732631,  12.42635295,   1.89636429,  29.15298336,\n",
       "         2.14763234,  48.58507067,  11.92476514,  30.27853032,\n",
       "       103.67667221,  10.00433744,   7.99808401,   7.68979396,\n",
       "        15.0280639 ,   7.41475539,  12.2132235 ,  52.1805961 ,\n",
       "        69.90276097,   7.18655862,  51.62725205,   2.7602976 ,\n",
       "         7.03427213,  40.97510558,  33.57214587,  13.20784227,\n",
       "        17.27329096,   8.58878335,  36.97804859,  67.72209613,\n",
       "        55.85038879,   4.60552047,  55.83255234,  11.51079282,\n",
       "        54.81772034,  21.85657839,  15.46591932,   4.99762053,\n",
       "         7.58833832,  25.07649183,   2.32202217,  52.4362854 ,\n",
       "         8.14811613,  56.73451705,  11.5212481 ,  35.63438627,\n",
       "         7.99023646,   2.75967469,  26.74146338,  14.95495682,\n",
       "         4.0893563 , 293.89073567,  40.53588246,   9.40986772,\n",
       "       119.02997724, 136.31053685,   5.71340291,  17.35804873,\n",
       "         2.13158938,  16.80997488,  84.80791594,   5.69668052,\n",
       "         8.22398525,   5.70305317,  24.00591884,  65.15838637,\n",
       "         6.67319755,  26.88558881,  39.35131677,  18.28847705,\n",
       "         9.69355771,  14.78077855,  97.27288621,   6.92802182,\n",
       "        31.55438917,  17.82111482,  29.87200983,  21.86068573,\n",
       "        13.87953407,  51.56352619,  49.67756896,  30.76969166,\n",
       "        36.06448642,  29.27248205,  16.39454415,  30.16915489,\n",
       "        21.80785797,   7.82214168,  53.69555659,  51.17553286,\n",
       "       197.22942003,  21.82806737,  53.32578446,   2.57789955,\n",
       "        14.91045429,   2.6384138 ,  13.48324551,  22.47211277,\n",
       "        20.54350063,  20.16077802,  16.46649414,  33.88201642,\n",
       "        42.70959125,  13.18729822,  20.40774189,  70.52784916,\n",
       "        18.38814651,  23.07969398,  12.34089688,   9.03926099,\n",
       "        53.74660725,   7.91916162,  56.26071981,   8.61549507,\n",
       "        56.43870624,  11.73427052,  56.32017339,  10.52431562,\n",
       "        62.32734583,  25.7853684 ,   6.31909064,  89.28027199,\n",
       "        29.67800983,  10.56253454,  92.9562796 ,  13.02642804,\n",
       "        71.27119203,  17.36962284,  32.45791633,  50.79444483,\n",
       "         5.22881604,   4.70478389,  25.24431973,  27.97489032,\n",
       "        15.74381344,  11.06900154,  27.36021154,   3.76374453,\n",
       "        92.18958258,  76.69880147,  10.07490429,  45.79451194,\n",
       "        13.03736294,   9.50882226,  18.45972963,  31.04000905,\n",
       "        11.6913728 ,  46.04391375,   3.79531727, 127.01240776])"
      ]
     },
     "execution_count": 17,
     "metadata": {},
     "output_type": "execute_result"
    }
   ],
   "source": [
    "p"
   ]
  },
  {
   "cell_type": "code",
   "execution_count": 19,
   "id": "54de932c",
   "metadata": {},
   "outputs": [
    {
     "data": {
      "text/plain": [
       "<AxesSubplot:ylabel='Count'>"
      ]
     },
     "execution_count": 19,
     "metadata": {},
     "output_type": "execute_result"
    },
    {
     "data": {
      "image/png": "[encoded data removed]",
      "text/plain": [
       "<Figure size 432x288 with 1 Axes>"
      ]
     },
     "metadata": {
      "needs_background": "light"
     },
     "output_type": "display_data"
    }
   ],
   "source": [
    "sns.histplot(np.log(p),kde=True)"
   ]
  },
  {
   "cell_type": "code",
   "execution_count": 25,
   "id": "8464fb26",
   "metadata": {},
   "outputs": [],
   "source": [
    "## convert data into normal distribution \n",
    "data=[23, 24, 32, 45, 12, 43, 67, 45, 32, 56, 32]"
   ]
  },
  {
   "cell_type": "code",
   "execution_count": 26,
   "id": "14d28a9a",
   "metadata": {},
   "outputs": [],
   "source": [
    "import matplotlib.pyplot as plt\n",
    "import scipy.stats as stat\n",
    "import pylab"
   ]
  },
  {
   "cell_type": "code",
   "execution_count": 29,
   "id": "11d32051",
   "metadata": {},
   "outputs": [],
   "source": [
    "def plot_data(sample):\n",
    "    plt.figure(figsize=(10,6))\n",
    "    plt.subplot(1,2,1)\n",
    "    sns.histplot(sample)\n",
    "    plt.subplot(1,2,2)\n",
    "    stat.probplot(sample,dist='norm',plot=pylab)\n",
    "    plt.show()"
   ]
  },
  {
   "cell_type": "code",
   "execution_count": 28,
   "id": "d32b2cdd",
   "metadata": {},
   "outputs": [
    {
     "data": {
      "image/png": "[encoded data removed]",
      "text/plain": [
       "<Figure size 720x432 with 2 Axes>"
      ]
     },
     "metadata": {
      "needs_background": "light"
     },
     "output_type": "display_data"
    }
   ],
   "source": [
    "plot_data(data)"
   ]
  },
  {
   "cell_type": "code",
   "execution_count": 32,
   "id": "5f904247",
   "metadata": {},
   "outputs": [
    {
     "ename": "FileNotFoundError",
     "evalue": "[Errno 2] No such file or directory: 'Titanic.csv'",
     "output_type": "error",
     "traceback": [
      "\u001b[1;31m---------------------------------------------------------------------------\u001b[0m",
      "\u001b[1;31mFileNotFoundError\u001b[0m                         Traceback (most recent call last)",
      "\u001b[1;32m~\\AppData\\Local\\Temp/ipykernel_13748/1165583747.py\u001b[0m in \u001b[0;36m<module>\u001b[1;34m\u001b[0m\n\u001b[0;32m      1\u001b[0m \u001b[1;32mimport\u001b[0m \u001b[0mpandas\u001b[0m \u001b[1;32mas\u001b[0m \u001b[0mpd\u001b[0m\u001b[1;33m\u001b[0m\u001b[1;33m\u001b[0m\u001b[0m\n\u001b[1;32m----> 2\u001b[1;33m \u001b[0mdata3\u001b[0m\u001b[1;33m=\u001b[0m\u001b[0mpd\u001b[0m\u001b[1;33m.\u001b[0m\u001b[0mread_csv\u001b[0m\u001b[1;33m(\u001b[0m\u001b[1;34m'Titanic.csv'\u001b[0m\u001b[1;33m)\u001b[0m\u001b[1;33m\u001b[0m\u001b[1;33m\u001b[0m\u001b[0m\n\u001b[0m",
      "\u001b[1;32m~\\anaconda3\\lib\\site-packages\\pandas\\util\\_decorators.py\u001b[0m in \u001b[0;36mwrapper\u001b[1;34m(*args, **kwargs)\u001b[0m\n\u001b[0;32m    309\u001b[0m                     \u001b[0mstacklevel\u001b[0m\u001b[1;33m=\u001b[0m\u001b[0mstacklevel\u001b[0m\u001b[1;33m,\u001b[0m\u001b[1;33m\u001b[0m\u001b[1;33m\u001b[0m\u001b[0m\n\u001b[0;32m    310\u001b[0m                 )\n\u001b[1;32m--> 311\u001b[1;33m             \u001b[1;32mreturn\u001b[0m \u001b[0mfunc\u001b[0m\u001b[1;33m(\u001b[0m\u001b[1;33m*\u001b[0m\u001b[0margs\u001b[0m\u001b[1;33m,\u001b[0m \u001b[1;33m**\u001b[0m\u001b[0mkwargs\u001b[0m\u001b[1;33m)\u001b[0m\u001b[1;33m\u001b[0m\u001b[1;33m\u001b[0m\u001b[0m\n\u001b[0m\u001b[0;32m    312\u001b[0m \u001b[1;33m\u001b[0m\u001b[0m\n\u001b[0;32m    313\u001b[0m         \u001b[1;32mreturn\u001b[0m \u001b[0mwrapper\u001b[0m\u001b[1;33m\u001b[0m\u001b[1;33m\u001b[0m\u001b[0m\n",
      "\u001b[1;32m~\\anaconda3\\lib\\site-packages\\pandas\\io\\parsers\\readers.py\u001b[0m in \u001b[0;36mread_csv\u001b[1;34m(filepath_or_buffer, sep, delimiter, header, names, index_col, usecols, squeeze, prefix, mangle_dupe_cols, dtype, engine, converters, true_values, false_values, skipinitialspace, skiprows, skipfooter, nrows, na_values, keep_default_na, na_filter, verbose, skip_blank_lines, parse_dates, infer_datetime_format, keep_date_col, date_parser, dayfirst, cache_dates, iterator, chunksize, compression, thousands, decimal, lineterminator, quotechar, quoting, doublequote, escapechar, comment, encoding, encoding_errors, dialect, error_bad_lines, warn_bad_lines, on_bad_lines, delim_whitespace, low_memory, memory_map, float_precision, storage_options)\u001b[0m\n\u001b[0;32m    584\u001b[0m     \u001b[0mkwds\u001b[0m\u001b[1;33m.\u001b[0m\u001b[0mupdate\u001b[0m\u001b[1;33m(\u001b[0m\u001b[0mkwds_defaults\u001b[0m\u001b[1;33m)\u001b[0m\u001b[1;33m\u001b[0m\u001b[1;33m\u001b[0m\u001b[0m\n\u001b[0;32m    585\u001b[0m \u001b[1;33m\u001b[0m\u001b[0m\n\u001b[1;32m--> 586\u001b[1;33m     \u001b[1;32mreturn\u001b[0m \u001b[0m_read\u001b[0m\u001b[1;33m(\u001b[0m\u001b[0mfilepath_or_buffer\u001b[0m\u001b[1;33m,\u001b[0m \u001b[0mkwds\u001b[0m\u001b[1;33m)\u001b[0m\u001b[1;33m\u001b[0m\u001b[1;33m\u001b[0m\u001b[0m\n\u001b[0m\u001b[0;32m    587\u001b[0m \u001b[1;33m\u001b[0m\u001b[0m\n\u001b[0;32m    588\u001b[0m \u001b[1;33m\u001b[0m\u001b[0m\n",
      "\u001b[1;32m~\\anaconda3\\lib\\site-packages\\pandas\\io\\parsers\\readers.py\u001b[0m in \u001b[0;36m_read\u001b[1;34m(filepath_or_buffer, kwds)\u001b[0m\n\u001b[0;32m    480\u001b[0m \u001b[1;33m\u001b[0m\u001b[0m\n\u001b[0;32m    481\u001b[0m     \u001b[1;31m# Create the parser.\u001b[0m\u001b[1;33m\u001b[0m\u001b[1;33m\u001b[0m\u001b[0m\n\u001b[1;32m--> 482\u001b[1;33m     \u001b[0mparser\u001b[0m \u001b[1;33m=\u001b[0m \u001b[0mTextFileReader\u001b[0m\u001b[1;33m(\u001b[0m\u001b[0mfilepath_or_buffer\u001b[0m\u001b[1;33m,\u001b[0m \u001b[1;33m**\u001b[0m\u001b[0mkwds\u001b[0m\u001b[1;33m)\u001b[0m\u001b[1;33m\u001b[0m\u001b[1;33m\u001b[0m\u001b[0m\n\u001b[0m\u001b[0;32m    483\u001b[0m \u001b[1;33m\u001b[0m\u001b[0m\n\u001b[0;32m    484\u001b[0m     \u001b[1;32mif\u001b[0m \u001b[0mchunksize\u001b[0m \u001b[1;32mor\u001b[0m \u001b[0miterator\u001b[0m\u001b[1;33m:\u001b[0m\u001b[1;33m\u001b[0m\u001b[1;33m\u001b[0m\u001b[0m\n",
      "\u001b[1;32m~\\anaconda3\\lib\\site-packages\\pandas\\io\\parsers\\readers.py\u001b[0m in \u001b[0;36m__init__\u001b[1;34m(self, f, engine, **kwds)\u001b[0m\n\u001b[0;32m    809\u001b[0m             \u001b[0mself\u001b[0m\u001b[1;33m.\u001b[0m\u001b[0moptions\u001b[0m\u001b[1;33m[\u001b[0m\u001b[1;34m\"has_index_names\"\u001b[0m\u001b[1;33m]\u001b[0m \u001b[1;33m=\u001b[0m \u001b[0mkwds\u001b[0m\u001b[1;33m[\u001b[0m\u001b[1;34m\"has_index_names\"\u001b[0m\u001b[1;33m]\u001b[0m\u001b[1;33m\u001b[0m\u001b[1;33m\u001b[0m\u001b[0m\n\u001b[0;32m    810\u001b[0m \u001b[1;33m\u001b[0m\u001b[0m\n\u001b[1;32m--> 811\u001b[1;33m         \u001b[0mself\u001b[0m\u001b[1;33m.\u001b[0m\u001b[0m_engine\u001b[0m \u001b[1;33m=\u001b[0m \u001b[0mself\u001b[0m\u001b[1;33m.\u001b[0m\u001b[0m_make_engine\u001b[0m\u001b[1;33m(\u001b[0m\u001b[0mself\u001b[0m\u001b[1;33m.\u001b[0m\u001b[0mengine\u001b[0m\u001b[1;33m)\u001b[0m\u001b[1;33m\u001b[0m\u001b[1;33m\u001b[0m\u001b[0m\n\u001b[0m\u001b[0;32m    812\u001b[0m \u001b[1;33m\u001b[0m\u001b[0m\n\u001b[0;32m    813\u001b[0m     \u001b[1;32mdef\u001b[0m \u001b[0mclose\u001b[0m\u001b[1;33m(\u001b[0m\u001b[0mself\u001b[0m\u001b[1;33m)\u001b[0m\u001b[1;33m:\u001b[0m\u001b[1;33m\u001b[0m\u001b[1;33m\u001b[0m\u001b[0m\n",
      "\u001b[1;32m~\\anaconda3\\lib\\site-packages\\pandas\\io\\parsers\\readers.py\u001b[0m in \u001b[0;36m_make_engine\u001b[1;34m(self, engine)\u001b[0m\n\u001b[0;32m   1038\u001b[0m             )\n\u001b[0;32m   1039\u001b[0m         \u001b[1;31m# error: Too many arguments for \"ParserBase\"\u001b[0m\u001b[1;33m\u001b[0m\u001b[1;33m\u001b[0m\u001b[0m\n\u001b[1;32m-> 1040\u001b[1;33m         \u001b[1;32mreturn\u001b[0m \u001b[0mmapping\u001b[0m\u001b[1;33m[\u001b[0m\u001b[0mengine\u001b[0m\u001b[1;33m]\u001b[0m\u001b[1;33m(\u001b[0m\u001b[0mself\u001b[0m\u001b[1;33m.\u001b[0m\u001b[0mf\u001b[0m\u001b[1;33m,\u001b[0m \u001b[1;33m**\u001b[0m\u001b[0mself\u001b[0m\u001b[1;33m.\u001b[0m\u001b[0moptions\u001b[0m\u001b[1;33m)\u001b[0m  \u001b[1;31m# type: ignore[call-arg]\u001b[0m\u001b[1;33m\u001b[0m\u001b[1;33m\u001b[0m\u001b[0m\n\u001b[0m\u001b[0;32m   1041\u001b[0m \u001b[1;33m\u001b[0m\u001b[0m\n\u001b[0;32m   1042\u001b[0m     \u001b[1;32mdef\u001b[0m \u001b[0m_failover_to_python\u001b[0m\u001b[1;33m(\u001b[0m\u001b[0mself\u001b[0m\u001b[1;33m)\u001b[0m\u001b[1;33m:\u001b[0m\u001b[1;33m\u001b[0m\u001b[1;33m\u001b[0m\u001b[0m\n",
      "\u001b[1;32m~\\anaconda3\\lib\\site-packages\\pandas\\io\\parsers\\c_parser_wrapper.py\u001b[0m in \u001b[0;36m__init__\u001b[1;34m(self, src, **kwds)\u001b[0m\n\u001b[0;32m     49\u001b[0m \u001b[1;33m\u001b[0m\u001b[0m\n\u001b[0;32m     50\u001b[0m         \u001b[1;31m# open handles\u001b[0m\u001b[1;33m\u001b[0m\u001b[1;33m\u001b[0m\u001b[0m\n\u001b[1;32m---> 51\u001b[1;33m         \u001b[0mself\u001b[0m\u001b[1;33m.\u001b[0m\u001b[0m_open_handles\u001b[0m\u001b[1;33m(\u001b[0m\u001b[0msrc\u001b[0m\u001b[1;33m,\u001b[0m \u001b[0mkwds\u001b[0m\u001b[1;33m)\u001b[0m\u001b[1;33m\u001b[0m\u001b[1;33m\u001b[0m\u001b[0m\n\u001b[0m\u001b[0;32m     52\u001b[0m         \u001b[1;32massert\u001b[0m \u001b[0mself\u001b[0m\u001b[1;33m.\u001b[0m\u001b[0mhandles\u001b[0m \u001b[1;32mis\u001b[0m \u001b[1;32mnot\u001b[0m \u001b[1;32mNone\u001b[0m\u001b[1;33m\u001b[0m\u001b[1;33m\u001b[0m\u001b[0m\n\u001b[0;32m     53\u001b[0m \u001b[1;33m\u001b[0m\u001b[0m\n",
      "\u001b[1;32m~\\anaconda3\\lib\\site-packages\\pandas\\io\\parsers\\base_parser.py\u001b[0m in \u001b[0;36m_open_handles\u001b[1;34m(self, src, kwds)\u001b[0m\n\u001b[0;32m    220\u001b[0m         \u001b[0mLet\u001b[0m \u001b[0mthe\u001b[0m \u001b[0mreaders\u001b[0m \u001b[0mopen\u001b[0m \u001b[0mIOHandles\u001b[0m \u001b[0mafter\u001b[0m \u001b[0mthey\u001b[0m \u001b[0mare\u001b[0m \u001b[0mdone\u001b[0m \u001b[1;32mwith\u001b[0m \u001b[0mtheir\u001b[0m \u001b[0mpotential\u001b[0m \u001b[0mraises\u001b[0m\u001b[1;33m.\u001b[0m\u001b[1;33m\u001b[0m\u001b[1;33m\u001b[0m\u001b[0m\n\u001b[0;32m    221\u001b[0m         \"\"\"\n\u001b[1;32m--> 222\u001b[1;33m         self.handles = get_handle(\n\u001b[0m\u001b[0;32m    223\u001b[0m             \u001b[0msrc\u001b[0m\u001b[1;33m,\u001b[0m\u001b[1;33m\u001b[0m\u001b[1;33m\u001b[0m\u001b[0m\n\u001b[0;32m    224\u001b[0m             \u001b[1;34m\"r\"\u001b[0m\u001b[1;33m,\u001b[0m\u001b[1;33m\u001b[0m\u001b[1;33m\u001b[0m\u001b[0m\n",
      "\u001b[1;32m~\\anaconda3\\lib\\site-packages\\pandas\\io\\common.py\u001b[0m in \u001b[0;36mget_handle\u001b[1;34m(path_or_buf, mode, encoding, compression, memory_map, is_text, errors, storage_options)\u001b[0m\n\u001b[0;32m    700\u001b[0m         \u001b[1;32mif\u001b[0m \u001b[0mioargs\u001b[0m\u001b[1;33m.\u001b[0m\u001b[0mencoding\u001b[0m \u001b[1;32mand\u001b[0m \u001b[1;34m\"b\"\u001b[0m \u001b[1;32mnot\u001b[0m \u001b[1;32min\u001b[0m \u001b[0mioargs\u001b[0m\u001b[1;33m.\u001b[0m\u001b[0mmode\u001b[0m\u001b[1;33m:\u001b[0m\u001b[1;33m\u001b[0m\u001b[1;33m\u001b[0m\u001b[0m\n\u001b[0;32m    701\u001b[0m             \u001b[1;31m# Encoding\u001b[0m\u001b[1;33m\u001b[0m\u001b[1;33m\u001b[0m\u001b[0m\n\u001b[1;32m--> 702\u001b[1;33m             handle = open(\n\u001b[0m\u001b[0;32m    703\u001b[0m                 \u001b[0mhandle\u001b[0m\u001b[1;33m,\u001b[0m\u001b[1;33m\u001b[0m\u001b[1;33m\u001b[0m\u001b[0m\n\u001b[0;32m    704\u001b[0m                 \u001b[0mioargs\u001b[0m\u001b[1;33m.\u001b[0m\u001b[0mmode\u001b[0m\u001b[1;33m,\u001b[0m\u001b[1;33m\u001b[0m\u001b[1;33m\u001b[0m\u001b[0m\n",
      "\u001b[1;31mFileNotFoundError\u001b[0m: [Errno 2] No such file or directory: 'Titanic.csv'"
     ]
    }
   ],
   "source": [
    "import pandas as pd\n",
    "data3=pd.read_csv('Titanic.csv')"
   ]
  },
  {
   "cell_type": "code",
   "execution_count": null,
   "id": "5629db53",
   "metadata": {},
   "outputs": [],
   "source": []
  }
 ],
 "metadata": {
  "kernelspec": {
   "display_name": "Python 3 (ipykernel)",
   "language": "python",
   "name": "python3"
  },
  "language_info": {
   "codemirror_mode": {
    "name": "ipython",
    "version": 3
   },
   "file_extension": ".py",
   "mimetype": "text/x-python",
   "name": "python",
   "nbconvert_exporter": "python",
   "pygments_lexer": "ipython3",
   "version": "3.9.7"
  }
 },
 "nbformat": 4,
 "nbformat_minor": 5
}
