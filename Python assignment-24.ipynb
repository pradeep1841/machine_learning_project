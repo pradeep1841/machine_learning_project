{
 "cells": [
  {
   "cell_type": "markdown",
   "id": "4d6dc185",
   "metadata": {},
   "source": [
    "# Python assignment-24"
   ]
  },
  {
   "cell_type": "markdown",
   "id": "4635e47b",
   "metadata": {},
   "source": [
    "### 1. What is the relationship between def statements and lambda expressions ?"
   ]
  },
  {
   "cell_type": "code",
   "execution_count": null,
   "id": "2d012b98",
   "metadata": {},
   "outputs": [],
   "source": [
    "Ans: def statement is used to create a normal function, whereas lamba expressions are\n",
    "    used to create Anonymous functions. Which can be assigned to a variable and can be called using t\n",
    "    the variable later in function.\n",
    "    \n",
    "    Lambda's body is a single expression and not a block of statements like\n",
    "    def statement. The lambda expression's body is similar to what we'd\n",
    "    put in a def body's return statement. We simply type the result as an\n",
    "    expression instead of explicitly returning it. Because it is limited\n",
    "    to an expression, a lambda is less general than a def statement."
   ]
  },
  {
   "cell_type": "markdown",
   "id": "6cfef849",
   "metadata": {},
   "source": [
    "### 2. What is the benefit of lambda?"
   ]
  },
  {
   "cell_type": "code",
   "execution_count": null,
   "id": "fe3184f6",
   "metadata": {},
   "outputs": [],
   "source": [
    "Ans: The following are some of the benefits of lambda expressions:\n",
    "    1. Can be used to create Nameless/Anonymous functions inside some complex function if we are planning to use it only once.\n",
    "    2. Moderate to small fuctions can be created in an single line.\n",
    "    3.Functions created using lambda expression can be assigned to a variable and can be used by simply calling the variable."
   ]
  },
  {
   "cell_type": "markdown",
   "id": "fab07b8f",
   "metadata": {},
   "source": [
    "### 3. Compare and contrast map, filter, and reduce."
   ]
  },
  {
   "cell_type": "code",
   "execution_count": null,
   "id": "03798079",
   "metadata": {},
   "outputs": [],
   "source": [
    "Ans: The differences between map, filter and reduce are:\n",
    "\n",
    "map(): The map() function is a type of higher-order. This function takes\n",
    "    another function as a parameter\n",
    "along with a sequence of iterables and returns an output after\n",
    "applying the function to each iterable present in the sequence.\n",
    "2. filter(): The filter() function is used to create an output list\n",
    "    consisting of values for which the function returns true. \n",
    "3. reduce(): The reduce() function, as the name describes, applies\n",
    "    a given function to the iterables and returns a single value"
   ]
  },
  {
   "cell_type": "code",
   "execution_count": 1,
   "id": "ee2496b5",
   "metadata": {},
   "outputs": [
    {
     "name": "stdout",
     "output_type": "stream",
     "text": [
      "Map-> [2, 4, 6, 8]\n",
      "Filter-> [1, 3]\n",
      "Reduce-> 21\n"
     ]
    }
   ],
   "source": [
    "from functools import reduce\n",
    "# map function\n",
    "print('Map->', list(map(lambda x:x+x,[1,2,3,4])))\n",
    "# filter function\n",
    "print('Filter->',list(filter(lambda x:x%2!=0,[1,2,3,4])))\n",
    "# reduce function\n",
    "print('Reduce->',reduce(lambda x,y:x+y, [1,2,3,4,5,6]))\n",
    " "
   ]
  },
  {
   "cell_type": "markdown",
   "id": "1027baac",
   "metadata": {},
   "source": [
    "### 4. What are function annotations, and how are they used?"
   ]
  },
  {
   "cell_type": "code",
   "execution_count": null,
   "id": "b540252e",
   "metadata": {},
   "outputs": [],
   "source": [
    "Ans: Function annotations provide a way of associating various parts of \n",
    "    a function with arbitrary pythoncexpressions at compile time.\n",
    "Annotations of simple parameters def func(x: expression, y: expression = 20):\n",
    "    \n",
    "Whereas the annotations for excess parameters are as − def func\n",
    "(**args: expression, **kwargs: expression):"
   ]
  },
  {
   "cell_type": "markdown",
   "id": "af899342",
   "metadata": {},
   "source": [
    "### 5. What are recursive functions, and how are they used?"
   ]
  },
  {
   "cell_type": "code",
   "execution_count": null,
   "id": "9ce12ed0",
   "metadata": {},
   "outputs": [],
   "source": [
    "Ans: A recursive function is a function that calss itself during its execution.\n",
    "    The process may repeate several times, outputting the rersult and the end of each iteration."
   ]
  },
  {
   "cell_type": "markdown",
   "id": "c8e38f8c",
   "metadata": {},
   "source": [
    "### 6. What are some general design guidelines for coding functions?"
   ]
  },
  {
   "cell_type": "code",
   "execution_count": null,
   "id": "f596f5d6",
   "metadata": {},
   "outputs": [],
   "source": [
    "Ans: Some of the general design guidelines for coding functions are:\n",
    "\n",
    "1.Always use a docstring to explain the functionality of the function\n",
    "2.avoid using or limited use of global variables\n",
    "3.Proper Identation to increase the code readability\n",
    "4.try to follow a naming convention for function names (pascalCase or camelCase) and stick with the same convention throughout the application.\n",
    "5.Avoid using digits while choosing a variable name\n",
    "6.try to use a name for the function which conveys the purpose of the function\n",
    "7.Local variables should be named using camelCase format (ex: localVariable) whereas Global variables names should be using PascalCase (ex:GlobalVariable).\n",
    "8.Constant should be represented in allcaps (ex:CONSTANT)."
   ]
  },
  {
   "cell_type": "markdown",
   "id": "acd424ee",
   "metadata": {},
   "source": [
    "### 7. Name three or more ways that functions can communicate results to a caller."
   ]
  },
  {
   "cell_type": "code",
   "execution_count": null,
   "id": "5b8e6750",
   "metadata": {},
   "outputs": [],
   "source": [
    "Ans: Some of the ways in which a function can communicate with the calling function is:\n",
    "\n",
    "print\n",
    "return\n",
    "yield"
   ]
  }
 ],
 "metadata": {
  "kernelspec": {
   "display_name": "Python 3 (ipykernel)",
   "language": "python",
   "name": "python3"
  },
  "language_info": {
   "codemirror_mode": {
    "name": "ipython",
    "version": 3
   },
   "file_extension": ".py",
   "mimetype": "text/x-python",
   "name": "python",
   "nbconvert_exporter": "python",
   "pygments_lexer": "ipython3",
   "version": "3.9.7"
  }
 },
 "nbformat": 4,
 "nbformat_minor": 5
}
