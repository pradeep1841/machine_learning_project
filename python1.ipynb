#!/usr/bin/env python
# coding: utf-8

# In[33]:


import pandas as pd
data2=pd.read_csv('Iris.csv')
data2


# In[20]:


import seaborn as sns
sns.histplot(np.log(data2['SepalLengthCm']),kde=True)


# In[6]:


sns.histplot(data2['SepalWidthCm'],kde=True)


# In[7]:


sns.histplot(data2['PetalLengthCm'],kde=True)


# In[12]:


import numpy as np
s = np.random.normal(0.5,0.2,1000)


# In[13]:


sns.histplot(s,kde=True)


# In[15]:


mu,sigma=3.0,1.0
p=np.random.lognormal(mu,sigma,1000)


# In[16]:


sns.histplot(p ,kde=True)


# In[17]:


p


# In[19]:


sns.histplot(np.log(p),kde=True)


# In[25]:


## convert data into normal distribution 
data=[23, 24, 32, 45, 12, 43, 67, 45, 32, 56, 32]


# In[26]:


import matplotlib.pyplot as plt
import scipy.stats as stat
import pylab


# In[29]:


def plot_data(sample):
    plt.figure(figsize=(10,6))
    plt.subplot(1,2,1)
    sns.histplot(sample)
    plt.subplot(1,2,2)
    stat.probplot(sample,dist='norm',plot=pylab)
    plt.show()


# In[28]:


plot_data(data)


# In[32]:


import pandas as pd
data3=pd.read_csv('Titanic.csv')


# In[ ]:




